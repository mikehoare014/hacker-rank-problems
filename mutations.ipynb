{
 "cells": [
  {
   "cell_type": "markdown",
   "metadata": {},
   "source": [
    "# Mutuations:\n",
    "\n",
    "Problem Link - https://www.hackerrank.com/challenges/python-mutations/problem\n",
    "\n",
    "### Task:\n",
    "The primary task in this problem is to modify a string at a given index and then print the modified string. The problem gives the user the following function template:"
   ]
  },
  {
   "cell_type": "code",
   "execution_count": 11,
   "metadata": {},
   "outputs": [],
   "source": [
    "# Function template\n",
    "def mutate_string(string, position, character): \n",
    "    \n",
    "    return"
   ]
  },
  {
   "cell_type": "markdown",
   "metadata": {},
   "source": [
    "### Methodology\n",
    "Thankfully, the problem gave two examples of how to modify a string because strings in python are __immutable__, meaning once the string is defined it cannot be modified.  \n",
    "\n",
    "If we try to modify a string directly, we will get a `TypeError`"
   ]
  },
  {
   "cell_type": "code",
   "execution_count": 2,
   "metadata": {},
   "outputs": [
    {
     "name": "stdout",
     "output_type": "stream",
     "text": [
      "s\n"
     ]
    },
    {
     "ename": "TypeError",
     "evalue": "'str' object does not support item assignment",
     "output_type": "error",
     "traceback": [
      "\u001b[0;31m---------------------------------------------------------------------------\u001b[0m",
      "\u001b[0;31mTypeError\u001b[0m                                 Traceback (most recent call last)",
      "\u001b[0;32m<ipython-input-2-45682a5cb173>\u001b[0m in \u001b[0;36m<module>\u001b[0;34m\u001b[0m\n\u001b[1;32m      6\u001b[0m \u001b[0;34m\u001b[0m\u001b[0m\n\u001b[1;32m      7\u001b[0m \u001b[0;31m# Attempt to change 'i' (index 3) to 'X'\u001b[0m\u001b[0;34m\u001b[0m\u001b[0;34m\u001b[0m\u001b[0;34m\u001b[0m\u001b[0m\n\u001b[0;32m----> 8\u001b[0;31m \u001b[0mmy_string\u001b[0m\u001b[0;34m[\u001b[0m\u001b[0;36m3\u001b[0m\u001b[0;34m]\u001b[0m \u001b[0;34m=\u001b[0m \u001b[0;34m'X'\u001b[0m\u001b[0;34m\u001b[0m\u001b[0;34m\u001b[0m\u001b[0m\n\u001b[0m",
      "\u001b[0;31mTypeError\u001b[0m: 'str' object does not support item assignment"
     ]
    }
   ],
   "source": [
    "# Define string\n",
    "my_string = 'this is a cool string!'\n",
    "\n",
    "# Access a string character by index\n",
    "print(my_string[3])\n",
    "\n",
    "# Attempt to change 'i' (index 3) to 'X'\n",
    "my_string[3] = 'X'\n"
   ]
  },
  {
   "cell_type": "markdown",
   "metadata": {},
   "source": [
    "Hence, we will have to tackle this problem differently. The problem gives us two methods of how to. \n",
    "\n",
    "### 1. Convert to `list()`\n",
    "- One potential solution is to convert the string to a list, which is mutuable, change the index value, and then convert back into a string. \n",
    "\n",
    "### 2. Slice the string \n",
    "- Another solution would be slice the string and then join the string back together.\n",
    "\n",
    "Let's peform each method to solve this problem!\n",
    "\n",
    "\n",
    "#### Convert to `list`"
   ]
  },
  {
   "cell_type": "code",
   "execution_count": 5,
   "metadata": {},
   "outputs": [
    {
     "data": {
      "text/plain": [
       "'ThiX is a cool string!'"
      ]
     },
     "execution_count": 5,
     "metadata": {},
     "output_type": "execute_result"
    }
   ],
   "source": [
    "# Define string\n",
    "my_string = 'This is a cool string!'\n",
    "\n",
    "# Convert to list\n",
    "my_string_list = list(my_string)\n",
    "\n",
    "# Using string indics, change character at index 3\n",
    "my_string_list[3] = 'X'\n",
    "\n",
    "# Join the list back together!\n",
    "my_string = ''.join(my_string_list)\n",
    "\n",
    "my_string"
   ]
  },
  {
   "cell_type": "markdown",
   "metadata": {},
   "source": [
    "Awesome! This does the trick. Let's now place this functionality inside of the function template and use the parameters the problem gave us. (Also add a docstring since I'm a big fan of those.)"
   ]
  },
  {
   "cell_type": "code",
   "execution_count": 6,
   "metadata": {},
   "outputs": [],
   "source": [
    "# Function template\n",
    "def mutate_string(string, position, character):\n",
    "    \"\"\"Modify a string at a given index with an updated character.\"\"\"\n",
    "\n",
    "    string_list = list(string)\n",
    "    string_list[position] = character\n",
    "    string = ''.join(string_list)\n",
    "    \n",
    "    return string\n"
   ]
  },
  {
   "cell_type": "markdown",
   "metadata": {},
   "source": [
    "Sweet! To make sure the function works, lets run a few test cases. \n",
    "\n",
    "### Test Cases"
   ]
  },
  {
   "cell_type": "code",
   "execution_count": 8,
   "metadata": {},
   "outputs": [
    {
     "name": "stdout",
     "output_type": "stream",
     "text": [
      "abraMadabra\n",
      "10 k\n"
     ]
    }
   ],
   "source": [
    "string1 = 'abracadabra'\n",
    "string2 = '5 k'\n",
    "\n",
    "print(mutate_string(string1, 4, 'M'))\n",
    "print(mutate_string(string2, 0, '10'))"
   ]
  },
  {
   "cell_type": "markdown",
   "metadata": {},
   "source": [
    "Perfect, this is exactly the output we are expecting. Let's moving on to the second method, string slicing. \n",
    "\n",
    "### Slice the string\n",
    "This method is a little bit more tricky and involves the nitty gritty details of python string slicing. My objective is to replace `my_string` below with a capital `s`, so it prints as `Awesome String`.\n",
    "\n",
    "Thus, I will want to take all characters leading up to the 's' but __NOT__ including the 's'. Then, I want to concatenate a capital 'S'. Finally, to place the rest of the string back together we want to take all characters after the originial 's' but NOT the 's'. \n",
    "\n",
    "To do this, we will utilize the bracket notation with a semicolon in the middle `[:]`. "
   ]
  },
  {
   "cell_type": "code",
   "execution_count": 21,
   "metadata": {},
   "outputs": [
    {
     "data": {
      "text/plain": [
       "'Awesome String'"
      ]
     },
     "execution_count": 21,
     "metadata": {},
     "output_type": "execute_result"
    }
   ],
   "source": [
    "# Define the strnig\n",
    "my_string = 'Awesome string'\n",
    "\n",
    "# Replace the 's' with 'S'\n",
    "my_string = my_string[:8] + 'S' + my_string[9:]\n",
    "\n",
    "my_string"
   ]
  },
  {
   "cell_type": "markdown",
   "metadata": {},
   "source": [
    "Wow! That's a pretty sweet onliner! Let's place this into our function template from before."
   ]
  },
  {
   "cell_type": "code",
   "execution_count": 23,
   "metadata": {},
   "outputs": [],
   "source": [
    "# Function template\n",
    "def mutate_string(string, position, character):\n",
    "    \"\"\"Modify a string at a given index with an updated character.\"\"\"\n",
    "\n",
    "    string = string[:position] + string[position+1:]\n",
    "   \n",
    "    return string"
   ]
  },
  {
   "cell_type": "markdown",
   "metadata": {},
   "source": [
    "Similar to the first solution, let's run some test cases to make sure the function holds up. \n",
    "\n",
    "#### Test Cases"
   ]
  },
  {
   "cell_type": "code",
   "execution_count": 24,
   "metadata": {},
   "outputs": [
    {
     "name": "stdout",
     "output_type": "stream",
     "text": [
      "abraadabra\n",
      " k\n"
     ]
    }
   ],
   "source": [
    "string1 = 'abracadabra'\n",
    "string2 = '5 k'\n",
    "\n",
    "print(mutate_string(string1, 4, 'M'))\n",
    "print(mutate_string(string2, 0, '10'))\n"
   ]
  },
  {
   "cell_type": "code",
   "execution_count": 26,
   "metadata": {},
   "outputs": [
    {
     "data": {
      "text/plain": [
       "'a'"
      ]
     },
     "execution_count": 26,
     "metadata": {},
     "output_type": "execute_result"
    }
   ],
   "source": [
    "string1[:1]"
   ]
  }
 ],
 "metadata": {
  "interpreter": {
   "hash": "4bb9e210cb3be106e347983823d81e02c6cd472b1f750cd39aa9116d57b41478"
  },
  "kernelspec": {
   "display_name": "Python 3.8.3 64-bit ('base': conda)",
   "language": "python",
   "name": "python3"
  },
  "language_info": {
   "codemirror_mode": {
    "name": "ipython",
    "version": 3
   },
   "file_extension": ".py",
   "mimetype": "text/x-python",
   "name": "python",
   "nbconvert_exporter": "python",
   "pygments_lexer": "ipython3",
   "version": "3.8.3"
  },
  "orig_nbformat": 4
 },
 "nbformat": 4,
 "nbformat_minor": 2
}
