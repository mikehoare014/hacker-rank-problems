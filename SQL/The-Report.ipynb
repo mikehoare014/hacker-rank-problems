{
 "cells": [
  {
   "cell_type": "markdown",
   "metadata": {},
   "source": [
    "# The Report \n",
    "\n",
    "Problem Link - https://www.hackerrank.com/challenges/the-report/problem\n",
    "\n",
    "## Solution"
   ]
  },
  {
   "cell_type": "code",
   "execution_count": null,
   "metadata": {},
   "outputs": [],
   "source": [
    "SELECT CASE WHEN grade < 8 THEN NULL\n",
    "       ELSE name\n",
    "       END AS 'name', \n",
    "       grade, \n",
    "       marks\n",
    "FROM students s\n",
    "JOIN grades g ON s.marks BETWEEN g.min_mark AND g.max_mark\n",
    "ORDER BY grade DESC, name ASC, marks ASC;"
   ]
  }
 ],
 "metadata": {
  "language_info": {
   "name": "python"
  },
  "orig_nbformat": 4
 },
 "nbformat": 4,
 "nbformat_minor": 2
}
