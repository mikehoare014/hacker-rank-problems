{
 "cells": [
  {
   "cell_type": "markdown",
   "metadata": {},
   "source": [
    "# Placements\n",
    "\n",
    "Problem Link - https://www.hackerrank.com/challenges/placements/problem?isFullScreen=true\n",
    "\n",
    "## Solution"
   ]
  },
  {
   "cell_type": "code",
   "execution_count": null,
   "metadata": {},
   "outputs": [],
   "source": [
    "/*\n",
    "Enter your query here.\n",
    "Please append a semicolon \";\" at the end of the query and enter your query in a single line to avoid error.\n",
    "*/\n",
    "\n",
    "SELECT s.name\n",
    "FROM friends f\n",
    "JOIN students s ON s.id = f.id\n",
    "JOIN students s2 ON s2.id = f.friend_id\n",
    "JOIN packages p ON p.id = s.id\n",
    "JOIN packages p2 ON p2.id = f.friend_id\n",
    "WHERE p2.salary > p.salary\n",
    "ORDER BY p2.salary;"
   ]
  }
 ],
 "metadata": {
  "language_info": {
   "name": "python"
  },
  "orig_nbformat": 4
 },
 "nbformat": 4,
 "nbformat_minor": 2
}
